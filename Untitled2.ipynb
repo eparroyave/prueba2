{
 "cells": [
  {
   "cell_type": "markdown",
   "metadata": {},
   "source": [
    "<hr style=\"height:3px\">\n",
    "# CÓMO CREAR UN PDF EN RSTUDIO\n",
    "<hr style=\"height:6px\">\n",
    "\n",
    "<h2> INTRODUCCIÓN <h2>\n",
    "\n",
    "Aunque se vea difícil, y realmente lo es, lo que se debe hacer es crear un documento pdf en Rstudio.\n",
    "\n",
    "1. Vamos a comenzar con abrir Rstudio\n",
    "2. Vamos a darle a \"File>new file>Rmarkdown\"\n",
    "\n",
    "<img src=\"imagen_de_prueba.png\" alt=\"menú de r studio\">\n",
    "\n",
    "Luego se abre una ventana que se llama \"New R Markdown\"\n",
    "\n",
    "![title](imagen_de_prueba.png)\n",
    "\n",
    "\n",
    "En esta ventana se puede elegir entre las siguientes opciones:\n",
    "+ Document\n",
    "+ Presentation\n",
    "+ Shiny\n",
    "+ From Template\n",
    "\n",
    "\n",
    "\n",
    "Debes elegir la opción *Document*. Luego de elegir esta opción se le asigna el título y el autor al documento.\n",
    "\n",
    "Luego se elegie entre las ociones: \n",
    "<div style=\"width:200px;height:100px;padding:10px;border:1px dashed yellowgreen;\">\n",
    "<ol> <li><right>html</right></li>  <li>* pdf</li>   <li>* word</li> </ol>\n",
    "</div>\n",
    "\n",
    "\n",
    "\n",
    "\n",
    "\n",
    "\n"
   ]
  }
 ],
 "metadata": {
  "kernelspec": {
   "display_name": "Python 3",
   "language": "python",
   "name": "python3"
  },
  "language_info": {
   "codemirror_mode": {
    "name": "ipython",
    "version": 3
   },
   "file_extension": ".py",
   "mimetype": "text/x-python",
   "name": "python",
   "nbconvert_exporter": "python",
   "pygments_lexer": "ipython3",
   "version": "3.5.1"
  }
 },
 "nbformat": 4,
 "nbformat_minor": 0
}
